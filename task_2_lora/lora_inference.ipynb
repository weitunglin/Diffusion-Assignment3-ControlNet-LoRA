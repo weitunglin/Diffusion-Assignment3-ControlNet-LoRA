{
 "cells": [
  {
   "cell_type": "code",
   "execution_count": 1,
   "metadata": {},
   "outputs": [],
   "source": [
    "import os\n",
    "from PIL import Image\n",
    "from utils import *\n",
    "import torch\n",
    "from diffusers import StableDiffusionPipeline\n",
    "\n",
    "device = \"cuda:0\""
   ]
  },
  {
   "cell_type": "markdown",
   "metadata": {},
   "source": [
    "### Load Stable Diffusion"
   ]
  },
  {
   "cell_type": "code",
   "execution_count": 2,
   "metadata": {},
   "outputs": [
    {
     "data": {
      "application/vnd.jupyter.widget-view+json": {
       "model_id": "83b7efe388fe46b3a280cf6967208eef",
       "version_major": 2,
       "version_minor": 0
      },
      "text/plain": [
       "Loading pipeline components...:   0%|          | 0/7 [00:00<?, ?it/s]"
      ]
     },
     "metadata": {},
     "output_type": "display_data"
    },
    {
     "name": "stderr",
     "output_type": "stream",
     "text": [
      "/opt/miniconda3/envs/cs492d/lib/python3.10/site-packages/transformers/tokenization_utils_base.py:1601: FutureWarning: `clean_up_tokenization_spaces` was not set. It will be set to `True` by default. This behavior will be depracted in transformers v4.45, and will be then set to `False` by default. For more details check this issue: https://github.com/huggingface/transformers/issues/31884\n",
      "  warnings.warn(\n"
     ]
    },
    {
     "name": "stdout",
     "output_type": "stream",
     "text": [
      "[INFO] Successfully loaded Stable Diffusion!\n"
     ]
    }
   ],
   "source": [
    "pipe = StableDiffusionPipeline.from_pretrained(\n",
    "    \"CompVis/stable-diffusion-v1-4\", \n",
    "    torch_dtype=torch.float16\n",
    ")\n",
    "print(\"[INFO] Successfully loaded Stable Diffusion!\")"
   ]
  },
  {
   "cell_type": "markdown",
   "metadata": {},
   "source": [
    "### Load LoRA weights"
   ]
  },
  {
   "cell_type": "code",
   "execution_count": 6,
   "metadata": {},
   "outputs": [
    {
     "name": "stdout",
     "output_type": "stream",
     "text": [
      "[INFO] Successfully loaded LoRA weights!\n"
     ]
    }
   ],
   "source": [
    "# lora_path = \"./runs/sd-naruto-model-lora\"\n",
    "# lora_path = \"./runs/artistic_custom\"\n",
    "# lora_path = \"./runs/dreambooth_cat\"\n",
    "# lora_path = \"./runs/dreambooth_dog_bella\"\n",
    "lora_path = \"./runs/pokemon_custom/checkpoint-2000\"\n",
    "# lora_path = None  # if not using LoRA\n",
    "\n",
    "if lora_path is not None:\n",
    "    pipe.load_lora_weights(lora_path)\n",
    "    print(\"[INFO] Successfully loaded LoRA weights!\")\n",
    "    \n",
    "pipe = pipe.to(device)"
   ]
  },
  {
   "cell_type": "markdown",
   "metadata": {},
   "source": [
    "### Inference"
   ]
  },
  {
   "cell_type": "code",
   "execution_count": 7,
   "metadata": {},
   "outputs": [
    {
     "data": {
      "application/vnd.jupyter.widget-view+json": {
       "model_id": "5744d82f11194871b5981e8d7bbb4340",
       "version_major": 2,
       "version_minor": 0
      },
      "text/plain": [
       "  0%|          | 0/30 [00:00<?, ?it/s]"
      ]
     },
     "metadata": {},
     "output_type": "display_data"
    },
    {
     "name": "stderr",
     "output_type": "stream",
     "text": [
      "Potential NSFW content was detected in one or more images. A black image will be returned instead. Try again with a different prompt and/or seed.\n"
     ]
    }
   ],
   "source": [
    "# import os\n",
    "# os.mkdir('output_images')\n",
    "\n",
    "# prompt = [\"A photo of sks dog in a bucket\"]*4 + [\"A photo of sks dog running on the grass\"]*4\n",
    "prompt = ['A pokeman man'] * 4 + ['A Horsea dog'] * 4\n",
    "\n",
    "seed = 10\n",
    "\n",
    "seed_everything(seed)\n",
    "\n",
    "image = pipe(\n",
    "    prompt, \n",
    "    num_inference_steps=30, \n",
    "    guidance_scale=7.5\n",
    ").images\n",
    "\n",
    "for i, img in enumerate(image):\n",
    "    img.save(f\"results/{prompt[i].replace(' ', '_').lower()}_{i+1}.png\")"
   ]
  },
  {
   "cell_type": "code",
   "execution_count": null,
   "metadata": {},
   "outputs": [],
   "source": []
  }
 ],
 "metadata": {
  "kernelspec": {
   "display_name": "cs492d",
   "language": "python",
   "name": "python3"
  },
  "language_info": {
   "codemirror_mode": {
    "name": "ipython",
    "version": 3
   },
   "file_extension": ".py",
   "mimetype": "text/x-python",
   "name": "python",
   "nbconvert_exporter": "python",
   "pygments_lexer": "ipython3",
   "version": "3.10.14"
  }
 },
 "nbformat": 4,
 "nbformat_minor": 2
}
